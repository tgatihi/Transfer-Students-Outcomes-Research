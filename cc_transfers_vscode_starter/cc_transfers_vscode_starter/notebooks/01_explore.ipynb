{
 "cells": [
  {
   "cell_type": "markdown",
   "metadata": {},
   "source": [
    "# 01 — Load and preview data\n",
    "\n"
   ]
  },
  {
   "cell_type": "code",
   "execution_count": 3,
   "id": "5d1ef51c",
   "metadata": {},
   "outputs": [],
   "source": [
    "import pandas as pd\n",
    "from pathlib import Path\n",
    "\n",
    "raw_path = Path.cwd() / \"data\" / \"raw\"\n",
    "\n",
    "\n",
    "df_main = pd.read_excel(raw_path / \"fake_data.xlsx\")\n",
    "df_calendar = pd.read_excel(raw_path / \"Transfer School Calendar Types.xlsx\")\n",
    "\n",
    "df_main_with_calendar = df_main.merge(\n",
    "      df_calendar,\n",
    "      left_on=\"college_name\",\n",
    "      right_on=\"College_Name\",\n",
    "      how=\"left\"\n",
    ")\n",
    "\n",
    "df_main_with_calendar.head()\n",
    "\n",
    "processed_path = Path.cwd() / \"data\" / \"processed\"\n",
    "processed_path.mkdir(parents=True, exist_ok=True)\n",
    "df_main_with_calendar.to_csv(processed_path / \"fake_data_with_calendar.csv\", index=False)"
   ]
  },
  {
   "cell_type": "code",
   "execution_count": null,
   "id": "10b2a05c",
   "metadata": {},
   "outputs": [],
   "source": []
  },
  {
   "cell_type": "markdown",
   "metadata": {},
   "source": [
    "Next steps:\n",
    "1. Choose a **returns** variable.\n",
    "2. Choose **treatment** (quarter vs. semester CC).\n",
    "3. Sketch a regression: `returns ~ Treat + Controls + CampusFE + CohortFE`."
   ]
  }
 ],
 "metadata": {
  "kernelspec": {
   "display_name": ".venv (3.13.6)",
   "language": "python",
   "name": "python3"
  },
  "language_info": {
   "codemirror_mode": {
    "name": "ipython",
    "version": 3
   },
   "file_extension": ".py",
   "mimetype": "text/x-python",
   "name": "python",
   "nbconvert_exporter": "python",
   "pygments_lexer": "ipython3",
   "version": "3.13.6"
  }
 },
 "nbformat": 4,
 "nbformat_minor": 5
}
